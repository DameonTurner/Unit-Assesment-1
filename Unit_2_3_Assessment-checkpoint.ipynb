{
 "cells": [
  {
   "cell_type": "markdown",
   "metadata": {},
   "source": [
    "# Instructions"
   ]
  },
  {
   "cell_type": "markdown",
   "metadata": {},
   "source": [
    "Read each question carefully and provide an appropriate answer in the following cells. Depending on the question, you may need to provide code or a text submission. **Be sure to label your answers with the question number for easy identification!**"
   ]
  },
  {
   "cell_type": "markdown",
   "metadata": {},
   "source": [
    "**Question 1: Which of the following statements is the correct way to import a csv into a Pandas DataFrame? (2 points)** \n",
    "\n",
    "A. \n",
    "\n",
    "```python\n",
    "import pandas as pd\n",
    "infile = pd.read_csv(file_name)\n",
    "```\n",
    "\n",
    "\n",
    "B. \n",
    "\n",
    "```python\n",
    "import pandas as pd\n",
    "infile = pd.readCSV(file_name)\n",
    "```\n",
    "\n",
    "\n",
    "C. \n",
    "\n",
    "```python\n",
    "import pandas as pd\n",
    "infile = read_file(file_name)\n",
    "```\n",
    "\n",
    "\n",
    "D. \n",
    "\n",
    "```python\n",
    "import pandas as pd\n",
    "df.read_file(file_name)\n",
    "```\n"
   ]
  },
  {
   "cell_type": "code",
   "execution_count": null,
   "metadata": {},
   "outputs": [],
   "source": [
    "# Answer 1- A"
   ]
  },
  {
   "cell_type": "markdown",
   "metadata": {},
   "source": [
    "**Question 2: Create a code block that first imports the `student.json` file into a Pandas dataframe named `grades`, then creates a new dataframe named `passing` that contains only the students whose `Pass/Fail` status equals `PASS`. (5 points)**"
   ]
  },
  {
   "cell_type": "code",
   "execution_count": 2,
   "metadata": {},
   "outputs": [],
   "source": [
    "# Answer 2\n",
    "\n",
    "import pandas as pd\n",
    "\n",
    "grades_df = pd.read_csv('student.json')"
   ]
  },
  {
   "cell_type": "markdown",
   "metadata": {},
   "source": [
    "**Question 3: Create a code block that creates a Pandas dataframe with the following columns and values: (5 points)**\n",
    "\n",
    "* `Stock_Symbol`: AAPL, GOOG, TSLA, KO, MSFT\n",
    "* `Company_Name`: Apple, Google, Tesla, Coca-Cola, Microsoft\n",
    "* `52_Week_High`: 145.09, 1934.86, 900.40, 60.13, 242.64"
   ]
  },
  {
   "cell_type": "code",
   "execution_count": 3,
   "metadata": {},
   "outputs": [
    {
     "data": {
      "text/html": [
       "<div>\n",
       "<style scoped>\n",
       "    .dataframe tbody tr th:only-of-type {\n",
       "        vertical-align: middle;\n",
       "    }\n",
       "\n",
       "    .dataframe tbody tr th {\n",
       "        vertical-align: top;\n",
       "    }\n",
       "\n",
       "    .dataframe thead th {\n",
       "        text-align: right;\n",
       "    }\n",
       "</style>\n",
       "<table border=\"1\" class=\"dataframe\">\n",
       "  <thead>\n",
       "    <tr style=\"text-align: right;\">\n",
       "      <th></th>\n",
       "      <th>Stock_Symbol</th>\n",
       "      <th>Company_Name</th>\n",
       "      <th>52_Week_High</th>\n",
       "    </tr>\n",
       "  </thead>\n",
       "  <tbody>\n",
       "    <tr>\n",
       "      <th>0</th>\n",
       "      <td>AAPL</td>\n",
       "      <td>Apple</td>\n",
       "      <td>145.09</td>\n",
       "    </tr>\n",
       "    <tr>\n",
       "      <th>1</th>\n",
       "      <td>GOOG</td>\n",
       "      <td>Google</td>\n",
       "      <td>1934.86</td>\n",
       "    </tr>\n",
       "    <tr>\n",
       "      <th>2</th>\n",
       "      <td>TSLA</td>\n",
       "      <td>Tesla</td>\n",
       "      <td>900.40</td>\n",
       "    </tr>\n",
       "    <tr>\n",
       "      <th>3</th>\n",
       "      <td>KO</td>\n",
       "      <td>Coca-Cola</td>\n",
       "      <td>60.13</td>\n",
       "    </tr>\n",
       "    <tr>\n",
       "      <th>4</th>\n",
       "      <td>MSFT</td>\n",
       "      <td>Microsoft</td>\n",
       "      <td>242.64</td>\n",
       "    </tr>\n",
       "  </tbody>\n",
       "</table>\n",
       "</div>"
      ],
      "text/plain": [
       "  Stock_Symbol Company_Name  52_Week_High\n",
       "0         AAPL        Apple        145.09\n",
       "1         GOOG       Google       1934.86\n",
       "2         TSLA        Tesla        900.40\n",
       "3           KO    Coca-Cola         60.13\n",
       "4         MSFT    Microsoft        242.64"
      ]
     },
     "execution_count": 3,
     "metadata": {},
     "output_type": "execute_result"
    }
   ],
   "source": [
    "# Answer 3\n",
    "\n",
    "import pandas as pd\n",
    "\n",
    "stock_values = {\"Stock_Symbol\":[\"AAPL\", \"GOOG\", \"TSLA\", \"KO\", \"MSFT\"],\n",
    "\"Company_Name\":[ \"Apple\", \"Google\", \"Tesla\", \"Coca-Cola\", \"Microsoft\"],\n",
    "\"52_Week_High\":[ 145.09, 1934.86, 900.40, 60.13, 242.64]}\n",
    "\n",
    "stock_values_df = pd.DataFrame(stock_values, columns=[\"Stock_Symbol\", \"Company_Name\", \"52_Week_High\"])\n",
    "stock_values_df\n"
   ]
  },
  {
   "cell_type": "markdown",
   "metadata": {},
   "source": [
    "**Question 4: Which of the following `git` commands creates a new branch in your local repository? (2 points):**\n",
    "\n",
    "A. `git clone`\n",
    "\n",
    "B. `git pull <branch name>` \n",
    "\n",
    "C. `git checkout -b <branch name>`\n",
    "\n",
    "D. `git push -b <branch name>`"
   ]
  },
  {
   "cell_type": "code",
   "execution_count": null,
   "metadata": {},
   "outputs": [],
   "source": [
    "# Answer 4- C"
   ]
  },
  {
   "cell_type": "markdown",
   "metadata": {},
   "source": [
    "**Question 5: Create a code block that performs the following operations: (10 points)**\n",
    "\n",
    "   1. Import the `bitcoin_cash_price.csv` file into a Pandas dataframe called `bitcoin`.\n",
    "   \n",
    "   2. Import the `dash_price.csv` file into a Pandas dataframe called `dash`.\n",
    "   \n",
    "   3. Merge the `bitcoin` and `dash` dataframes using the `Date` column as the identifier column. Name this new merged dataframe `crypto`. \n",
    "   \n",
    "   4. Create a new `Delta_Volume` column in the `crypto` dataframe that calculates the largest **absolute** difference between the bitcoin `Volume` versus dash `Volume`.\n",
    "   \n",
    "     * **Hint:** Use `abs()` to calculate absolute value.\n",
    "   \n",
    "   \n",
    "   5. Find the row in the `crypto` dataframe that contains the maximum `Delta_Volume` value. Print the row out. "
   ]
  },
  {
   "cell_type": "code",
   "execution_count": 1,
   "metadata": {},
   "outputs": [
    {
     "data": {
      "text/html": [
       "<div>\n",
       "<style scoped>\n",
       "    .dataframe tbody tr th:only-of-type {\n",
       "        vertical-align: middle;\n",
       "    }\n",
       "\n",
       "    .dataframe tbody tr th {\n",
       "        vertical-align: top;\n",
       "    }\n",
       "\n",
       "    .dataframe thead th {\n",
       "        text-align: right;\n",
       "    }\n",
       "</style>\n",
       "<table border=\"1\" class=\"dataframe\">\n",
       "  <thead>\n",
       "    <tr style=\"text-align: right;\">\n",
       "      <th></th>\n",
       "      <th>Date</th>\n",
       "      <th>Open_x</th>\n",
       "      <th>High_x</th>\n",
       "      <th>Low_x</th>\n",
       "      <th>Close_x</th>\n",
       "      <th>Volume_x</th>\n",
       "      <th>Market Cap_x</th>\n",
       "      <th>Open_y</th>\n",
       "      <th>High_y</th>\n",
       "      <th>Low_y</th>\n",
       "      <th>Close_y</th>\n",
       "      <th>Volume_y</th>\n",
       "      <th>Market Cap_y</th>\n",
       "      <th>Delta_Volume</th>\n",
       "    </tr>\n",
       "  </thead>\n",
       "  <tbody>\n",
       "    <tr>\n",
       "      <th>0</th>\n",
       "      <td>17-Sep-17</td>\n",
       "      <td>438.90</td>\n",
       "      <td>438.90</td>\n",
       "      <td>384.06</td>\n",
       "      <td>419.86</td>\n",
       "      <td>221828000.0</td>\n",
       "      <td>7,279,520,000</td>\n",
       "      <td>298.59</td>\n",
       "      <td>315.58</td>\n",
       "      <td>278.17</td>\n",
       "      <td>313.84</td>\n",
       "      <td>38081600.0</td>\n",
       "      <td>2,257,850,000</td>\n",
       "      <td>183746400.0</td>\n",
       "    </tr>\n",
       "    <tr>\n",
       "      <th>1</th>\n",
       "      <td>16-Sep-17</td>\n",
       "      <td>424.49</td>\n",
       "      <td>450.98</td>\n",
       "      <td>388.20</td>\n",
       "      <td>440.22</td>\n",
       "      <td>313583000.0</td>\n",
       "      <td>7,039,590,000</td>\n",
       "      <td>284.50</td>\n",
       "      <td>301.23</td>\n",
       "      <td>276.57</td>\n",
       "      <td>298.86</td>\n",
       "      <td>43702600.0</td>\n",
       "      <td>2,150,800,000</td>\n",
       "      <td>269880400.0</td>\n",
       "    </tr>\n",
       "    <tr>\n",
       "      <th>2</th>\n",
       "      <td>15-Sep-17</td>\n",
       "      <td>369.49</td>\n",
       "      <td>448.39</td>\n",
       "      <td>301.69</td>\n",
       "      <td>424.02</td>\n",
       "      <td>707231000.0</td>\n",
       "      <td>6,126,800,000</td>\n",
       "      <td>236.05</td>\n",
       "      <td>300.11</td>\n",
       "      <td>220.51</td>\n",
       "      <td>284.36</td>\n",
       "      <td>72695500.0</td>\n",
       "      <td>1,784,040,000</td>\n",
       "      <td>634535500.0</td>\n",
       "    </tr>\n",
       "    <tr>\n",
       "      <th>3</th>\n",
       "      <td>14-Sep-17</td>\n",
       "      <td>504.22</td>\n",
       "      <td>510.47</td>\n",
       "      <td>367.04</td>\n",
       "      <td>367.04</td>\n",
       "      <td>257431000.0</td>\n",
       "      <td>8,359,650,000</td>\n",
       "      <td>301.11</td>\n",
       "      <td>303.74</td>\n",
       "      <td>236.24</td>\n",
       "      <td>236.24</td>\n",
       "      <td>35013800.0</td>\n",
       "      <td>2,275,100,000</td>\n",
       "      <td>222417200.0</td>\n",
       "    </tr>\n",
       "    <tr>\n",
       "      <th>4</th>\n",
       "      <td>13-Sep-17</td>\n",
       "      <td>509.47</td>\n",
       "      <td>519.20</td>\n",
       "      <td>471.22</td>\n",
       "      <td>503.61</td>\n",
       "      <td>340344000.0</td>\n",
       "      <td>8,445,540,000</td>\n",
       "      <td>324.72</td>\n",
       "      <td>325.16</td>\n",
       "      <td>287.25</td>\n",
       "      <td>301.29</td>\n",
       "      <td>28322500.0</td>\n",
       "      <td>2,452,930,000</td>\n",
       "      <td>312021500.0</td>\n",
       "    </tr>\n",
       "  </tbody>\n",
       "</table>\n",
       "</div>"
      ],
      "text/plain": [
       "        Date  Open_x  High_x   Low_x  Close_x     Volume_x   Market Cap_x  \\\n",
       "0  17-Sep-17  438.90  438.90  384.06   419.86  221828000.0  7,279,520,000   \n",
       "1  16-Sep-17  424.49  450.98  388.20   440.22  313583000.0  7,039,590,000   \n",
       "2  15-Sep-17  369.49  448.39  301.69   424.02  707231000.0  6,126,800,000   \n",
       "3  14-Sep-17  504.22  510.47  367.04   367.04  257431000.0  8,359,650,000   \n",
       "4  13-Sep-17  509.47  519.20  471.22   503.61  340344000.0  8,445,540,000   \n",
       "\n",
       "   Open_y  High_y   Low_y  Close_y    Volume_y   Market Cap_y  Delta_Volume  \n",
       "0  298.59  315.58  278.17   313.84  38081600.0  2,257,850,000   183746400.0  \n",
       "1  284.50  301.23  276.57   298.86  43702600.0  2,150,800,000   269880400.0  \n",
       "2  236.05  300.11  220.51   284.36  72695500.0  1,784,040,000   634535500.0  \n",
       "3  301.11  303.74  236.24   236.24  35013800.0  2,275,100,000   222417200.0  \n",
       "4  324.72  325.16  287.25   301.29  28322500.0  2,452,930,000   312021500.0  "
      ]
     },
     "execution_count": 1,
     "metadata": {},
     "output_type": "execute_result"
    }
   ],
   "source": [
    "# Answer 5  \n",
    "\n",
    "import pandas as pd\n",
    "\n",
    "bitcoin_df = pd.read_csv('bitcoin_cash_price.csv')\n",
    "dash_df = pd.read_csv('dash_price.csv')\n",
    "\n",
    "crypto_df = pd.merge(bitcoin_df, dash_df, on=\"Date\")\n",
    "crypto_df[\"Delta_Volume\"] = abs(crypto_df[\"Volume_x\"]-crypto_df[\"Volume_y\"])\n",
    "crypto_df.head()\n",
    "\n",
    "\n"
   ]
  },
  {
   "cell_type": "markdown",
   "metadata": {},
   "source": [
    "**Question 6: Which of the following statements adjusts the upper and lower limits on a Matplotlib visualization? (2 points)**\n",
    "\n",
    "A. \n",
    "\n",
    "```python\n",
    "import matplotlib.pyplot as plt\n",
    "plt.hlines(0,25,0, alpha=0.25)\n",
    "```\n",
    "\n",
    "B.\n",
    "\n",
    "```python\n",
    "import matplotlib.pyplot as plt\n",
    "plt.xlim(0,25)\n",
    "plt.ylim(0,25)\n",
    "```\n",
    "\n",
    "C.\n",
    "```python\n",
    "import matplotlib.pyplot as plt\n",
    "plt.grid(0,25,0,25)\n",
    "```\n",
    "\n",
    "D.\n",
    "```python\n",
    "import matplotlib.pyplot as plt\n",
    "plt.upper(0,25)\n",
    "plt.lower(0,25)\n",
    "```"
   ]
  },
  {
   "cell_type": "code",
   "execution_count": null,
   "metadata": {},
   "outputs": [],
   "source": [
    "# Answer 6- B"
   ]
  },
  {
   "cell_type": "markdown",
   "metadata": {},
   "source": [
    "**Question 7: Generate a bar plot that visualizes the following Netflix show IMDB ratings: (5 points)**\n",
    "\n",
    "`{\"Series\":[\"The Witcher\",\"Disenchantment\",\"Tiger King\",\"Ozark\",\"Stranger Things\"],\"User Ratings\":[8.2,7.2,7.6,8.4,8.7]}`"
   ]
  },
  {
   "cell_type": "code",
   "execution_count": null,
   "metadata": {},
   "outputs": [],
   "source": [
    "# Answer 7 \n",
    "import matplotlib.pyplot as plt\n",
    "import numpy as np\n",
    "\n",
    "Series = [\"The Witcher\", \"Disenchantment\", \"Tiger King\", \"Ozark\", \"Stranger Things\"]\n",
    "User_Ratings = [8.2, 7.2, 7.6, 8.4, 8.7]\n",
    "x_axis = np.arange(len(User_Ratings))\n",
    "plt.bar(x_axis, User_Ratings, color=\"r\", align=\"center\")\n",
    "tick_locations = [value for value in x_axis]\n",
    "plt.xticks(tick_locations, [\"The Witcher\", \"Disenchantment\", \"Tiger King\", \"Ozar\", \"Stranger Thing\"])\n",
    "plt.xlim(-0.500, len(x_axis)-1)\n",
    "plt.ylim(0, max(User_Ratings)+0.2)\n",
    "plt.title(\"IMDB ratings\")\n",
    "plt.xlabel(\"Netflix Shows\")\n",
    "plt.ylabel(\"Ratings\")"
   ]
  },
  {
   "cell_type": "markdown",
   "metadata": {},
   "source": [
    "**Question 8: Which of the following statements corretly creates a Matplotlib visualization with four subplots? (2 points)**\n",
    "\n",
    "A. `plt.subplot()`\n",
    "\n",
    "B. `plt.subplot(1,2,3,4)`\n",
    "\n",
    "C. `plt.subplot(1,4)`\n",
    "\n",
    "D. `plt.subplot(2,2,1)`"
   ]
  },
  {
   "cell_type": "code",
   "execution_count": null,
   "metadata": {},
   "outputs": [],
   "source": [
    "# Answer 8- D"
   ]
  },
  {
   "cell_type": "markdown",
   "metadata": {},
   "source": [
    "**Question 9: Which of the following Matplotlib methods would you use to add a label to your plot with an arrow pointing to the value? (2 points)**\n",
    "\n",
    "A. `plt.annotate()`\n",
    "\n",
    "B. `plt.label()`\n",
    "\n",
    "C. `plt.show()`\n",
    "\n",
    "D. `plt.arrow()`"
   ]
  },
  {
   "cell_type": "code",
   "execution_count": null,
   "metadata": {},
   "outputs": [],
   "source": [
    "# Answer 9- A"
   ]
  },
  {
   "cell_type": "markdown",
   "metadata": {},
   "source": [
    "**Question 10: Create a code block that performs the following operations: (15 points)**\n",
    "\n",
    "1. Import the `earthquakes_database.csv` file into a Pandas dataframe named `earthquakes`\n",
    "\n",
    "2. Retrieve the names of the unique data sources found in the `Source` column within your `earthquakes` dataframe.\n",
    "\n",
    "    * **Hint:** There should be 13 data sources.\n",
    "\n",
    "\n",
    "3. Create a Matplotlib scatterplot for each data source that visualizes the `Magnitude` (y-axis) versus `Depth` (x-axis). Be sure to add axis labels to your axes and title each plot with the name of the data source.\n",
    "\n",
    "    * **Note:** You will need to filter the `earthquakes` dataframe for each category type.\n"
   ]
  },
  {
   "cell_type": "code",
   "execution_count": null,
   "metadata": {
    "scrolled": false
   },
   "outputs": [],
   "source": [
    "# Answer 10\n",
    "\n",
    "import pandas as pd\n",
    "\n",
    "earthquakes_df = pd.read_csv('earthquakes_database.csv')\n",
    "unique = earthquakes_df[\"Source\"].unique()\n",
    "unique\n"
   ]
  },
  {
   "cell_type": "code",
   "execution_count": null,
   "metadata": {},
   "outputs": [],
   "source": []
  }
 ],
 "metadata": {
  "kernelspec": {
   "display_name": "Python 3",
   "language": "python",
   "name": "python3"
  },
  "language_info": {
   "codemirror_mode": {
    "name": "ipython",
    "version": 3
   },
   "file_extension": ".py",
   "mimetype": "text/x-python",
   "name": "python",
   "nbconvert_exporter": "python",
   "pygments_lexer": "ipython3",
   "version": "3.8.5"
  }
 },
 "nbformat": 4,
 "nbformat_minor": 4
}
